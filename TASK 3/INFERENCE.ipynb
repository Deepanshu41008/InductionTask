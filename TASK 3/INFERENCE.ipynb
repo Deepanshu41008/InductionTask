{
 "cells": [
  {
   "cell_type": "code",
   "execution_count": 15,
   "id": "a7f163fe-23a5-4eaa-add5-393807e6c44d",
   "metadata": {},
   "outputs": [
    {
     "name": "stderr",
     "output_type": "stream",
     "text": [
      "Setting `pad_token_id` to `eos_token_id`:50256 for open-end generation.\n"
     ]
    },
    {
     "name": "stdout",
     "output_type": "stream",
     "text": [
      "User B: I'm currently working on a new project that involves the use of a new type of solar panel to reduce the amount of sunlight that leaves the earth. Persona A: That's great, I'm glad you're excited about the project. Persona B: Thanks, I'm trying my best. Persona A: What do you work on? Persona B: I'm a software engineer. Persona A: Oh, cool! What kind of software are you working on? Persona B: I'm working on a new type of solar panel that is used to reduce the amount of sunlight that leaves the earth. Persona A: That sounds really cool, I'm sure it will be very useful. Persona B: Thank you, I hope so. Persona A: So, what do you like to accomplish for fun? Persona B: I like to read sci-fi novels and play board games. Persona A: I love sci-fi novels too! Persona B: What's your favorite sci-fi novel? Persona A: It's hard to choose one, but I think my favorite is The Hitchhiker's Guide to the Galaxy. Persona B: I've read that one, and it's one of my favorites too! Persona A: I'm glad you enjoy it! It's a really funny and well-written book. Persona B: Yeah, it's one of my favorites. Persona A: What's your favorite sci-fi book? Persona B: My favorite sci-fi book is The Hitchhiker's Guide to the Galaxy. Persona A: I've heard good things about that book, but I haven't read it yet. Persona B: It's really good. I'm sure you'll like it. Persona A: Thanks for the recommendation. Persona B: No problem! I'm always happy to talk about books. Persona A: What's your favorite book? Persona B: My favorite book is The Hitchhiker's Guide to the Galaxy. Persona A: That's a great book, I've heard good stuff. Persona B: That's what I'm thinking about. Persona A: It's a really good book, right. Persona B: Yeah, I'll have to check it out and I'll check it out. Persona A: You should. Persona B: What's your favorite type of your favorite TV show? Persona A: I'm pretty good, what do you like to watch a TV show? Persona A: I like watching TV show that\n"
     ]
    }
   ],
   "source": [
    "import torch\n",
    "from transformers import AutoTokenizer, AutoModelForCausalLM\n",
    "\n",
    "prompt = f\"\"\"\n",
    "\n",
    "Person B has the following Persona information.\n",
    "\n",
    "Persona of Person B: My name is Sarah and I'm a 28 year old software engineer.\n",
    "\n",
    "Persona of Person B: I love coding and developing new software applications.\n",
    "\n",
    "Persona of Person B: In my free time, I enjoy reading sci-fi novels and playing board games.\n",
    "\n",
    "Instruct: Person A and Person B are now having a conversation.\n",
    "\n",
    "Following the conversation below, write a response that Person B would say based on the above Persona information.\n",
    "\n",
    "Please carefully consider the flow and context of the conversation below, and use the Person B's Persona information appropriately to generate a response that you think is the most appropriate reply for Person B.\n",
    "\n",
    "Persona A: Hi Sarah, I heard you're working on a cool project at work. Can you tell me more about it?\n",
    "\n",
    "Output:\n",
    "\n",
    "\"\"\"\n",
    "\n",
    "# Load the fine-tuned model and tokenizer\n",
    "model_name = r\"C:\\Users\\gupta\\Downloads\\model\"  # Path to your fine-tuned model\n",
    "\n",
    "model = AutoModelForCausalLM.from_pretrained(model_name)\n",
    "tokenizer = AutoTokenizer.from_pretrained(model_name)\n",
    "\n",
    "# Tokenize input prompt\n",
    "input_ids = tokenizer(prompt, return_tensors=\"pt\", truncation=True)\n",
    "attention_mask = input_ids.attention_mask\n",
    "input_ids = input_ids.input_ids\n",
    "\n",
    "# Inference\n",
    "with torch.no_grad():\n",
    "    outputs = model.generate(\n",
    "        input_ids=input_ids,\n",
    "        attention_mask=attention_mask,\n",
    "        max_new_tokens=500,\n",
    "        do_sample=True,\n",
    "        top_p=0.95,\n",
    "        temperature=0.7\n",
    "    )\n",
    "\n",
    "# Decode output tokens\n",
    "decoded_outputs = tokenizer.batch_decode(outputs, skip_special_tokens=True)\n",
    "output = decoded_outputs[0][len(prompt):]\n",
    "\n",
    "print(output)\n"
   ]
  },
  {
   "cell_type": "code",
   "execution_count": null,
   "id": "2a3cb18b-7ac6-4e82-a3fc-48c8674ad4a5",
   "metadata": {},
   "outputs": [],
   "source": []
  }
 ],
 "metadata": {
  "kernelspec": {
   "display_name": "Python 3 (ipykernel)",
   "language": "python",
   "name": "python3"
  },
  "language_info": {
   "codemirror_mode": {
    "name": "ipython",
    "version": 3
   },
   "file_extension": ".py",
   "mimetype": "text/x-python",
   "name": "python",
   "nbconvert_exporter": "python",
   "pygments_lexer": "ipython3",
   "version": "3.12.4"
  }
 },
 "nbformat": 4,
 "nbformat_minor": 5
}
